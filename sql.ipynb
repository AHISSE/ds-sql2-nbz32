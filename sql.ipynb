{
 "cells": [
  {
   "cell_type": "markdown",
   "metadata": {
    "toc": true
   },
   "source": [
    "<h1>Table of Contents<span class=\"tocSkip\"></span></h1>\n",
    "<div class=\"toc\"><ul class=\"toc-item\"><li><span><a href=\"#Objectives\" data-toc-modified-id=\"Objectives-1\"><span class=\"toc-item-num\">1&nbsp;&nbsp;</span>Objectives</a></span></li><li><span><a href=\"#Grouping-in-SQL\" data-toc-modified-id=\"Grouping-in-SQL-2\"><span class=\"toc-item-num\">2&nbsp;&nbsp;</span>Grouping in SQL</a></span><ul class=\"toc-item\"><li><span><a href=\"#Grouping-statements\" data-toc-modified-id=\"Grouping-statements-2.1\"><span class=\"toc-item-num\">2.1&nbsp;&nbsp;</span>Grouping statements</a></span><ul class=\"toc-item\"><li><span><a href=\"#Task\" data-toc-modified-id=\"Task-2.1.1\"><span class=\"toc-item-num\">2.1.1&nbsp;&nbsp;</span>Task</a></span><ul class=\"toc-item\"><li><span><a href=\"#Possible-Solution\" data-toc-modified-id=\"Possible-Solution-2.1.1.1\"><span class=\"toc-item-num\">2.1.1.1&nbsp;&nbsp;</span>Possible Solution</a></span></li></ul></li><li><span><a href=\"#Exercise\" data-toc-modified-id=\"Exercise-2.1.2\"><span class=\"toc-item-num\">2.1.2&nbsp;&nbsp;</span>Exercise</a></span></li><li><span><a href=\"#Exercise\" data-toc-modified-id=\"Exercise-2.1.3\"><span class=\"toc-item-num\">2.1.3&nbsp;&nbsp;</span>Exercise</a></span></li></ul></li></ul></li><li><span><a href=\"#Joins\" data-toc-modified-id=\"Joins-3\"><span class=\"toc-item-num\">3&nbsp;&nbsp;</span>Joins</a></span></li><li><span><a href=\"#Level-Up:-Execution-Order\" data-toc-modified-id=\"Level-Up:-Execution-Order-4\"><span class=\"toc-item-num\">4&nbsp;&nbsp;</span>Level Up: Execution Order</a></span></li></ul></div>"
   ]
  },
  {
   "cell_type": "markdown",
   "metadata": {},
   "source": [
    "![sql](sql-logo.jpg)"
   ]
  },
  {
   "cell_type": "code",
   "execution_count": null,
   "metadata": {},
   "outputs": [],
   "source": [
    "import pandas as pd\n",
    "import sqlite3\n",
    "import pandasql\n",
    "\n",
    "conn = sqlite3.connect(\"flights.db\")\n",
    "cur = conn.cursor()"
   ]
  },
  {
   "cell_type": "markdown",
   "metadata": {},
   "source": [
    "# Objectives"
   ]
  },
  {
   "cell_type": "markdown",
   "metadata": {},
   "source": [
    "- Use SQL aggregation functions with GROUP BY\n",
    "- Use HAVING for group filtering\n",
    "- Use SQL JOIN to combine tables using keys"
   ]
  },
  {
   "cell_type": "markdown",
   "metadata": {},
   "source": [
    "# Grouping in SQL"
   ]
  },
  {
   "cell_type": "markdown",
   "metadata": {},
   "source": [
    "## Grouping statements"
   ]
  },
  {
   "cell_type": "markdown",
   "metadata": {},
   "source": [
    "Combine `SELECT` and `GROUP BY` when you want *aggregates* by values\n",
    "\n",
    "`SELECT` `COUNT`, `MIN(x)`, `MAX(x)`, `SUM(x)`, etc.\n",
    "\n",
    "`GROUP BY x`"
   ]
  },
  {
   "cell_type": "markdown",
   "metadata": {},
   "source": [
    "### Task"
   ]
  },
  {
   "cell_type": "markdown",
   "metadata": {},
   "source": [
    "- Which countries have the highest numbers of active airlines? Return the top 25."
   ]
  },
  {
   "cell_type": "markdown",
   "metadata": {},
   "source": [
    "#### Possible Solution"
   ]
  },
  {
   "cell_type": "code",
   "execution_count": null,
   "metadata": {},
   "outputs": [],
   "source": [
    "pd.read_sql('''\n",
    "    SELECT \n",
    "        COUNT() AS num,\n",
    "        country\n",
    "    FROM \n",
    "        airlines\n",
    "    WHERE \n",
    "        active='Y'\n",
    "    GROUP BY \n",
    "        country\n",
    "    ORDER BY \n",
    "        num DESC\n",
    "    LIMIT 25\n",
    "''', conn)"
   ]
  },
  {
   "cell_type": "markdown",
   "metadata": {},
   "source": [
    "### Exercise"
   ]
  },
  {
   "cell_type": "markdown",
   "metadata": {},
   "source": [
    "- Which countries have the highest numbers of inactive airlines? Return all the countries that have more than 10."
   ]
  },
  {
   "cell_type": "code",
   "execution_count": null,
   "metadata": {},
   "outputs": [],
   "source": [
    "# Your code here\n"
   ]
  },
  {
   "cell_type": "markdown",
   "metadata": {},
   "source": [
    "### Exercise"
   ]
  },
  {
   "cell_type": "markdown",
   "metadata": {},
   "source": [
    "- Run a query that will return the number of airports by time zone. Each row should have a number of airports and a time zone."
   ]
  },
  {
   "cell_type": "code",
   "execution_count": null,
   "metadata": {},
   "outputs": [],
   "source": [
    "# Your code here\n"
   ]
  },
  {
   "cell_type": "markdown",
   "metadata": {},
   "source": [
    "# Joins"
   ]
  },
  {
   "cell_type": "code",
   "execution_count": null,
   "metadata": {},
   "outputs": [],
   "source": []
  },
  {
   "cell_type": "markdown",
   "metadata": {},
   "source": [
    "# Level Up: Execution Order"
   ]
  },
  {
   "cell_type": "markdown",
   "metadata": {},
   "source": [
    "```SQL\n",
    "SELECT \n",
    "    COUNT(table2.col2) AS my_new_count\n",
    "    ,table1.col2\n",
    "FROM\n",
    "    table1\n",
    "    JOIN table2\n",
    "        ON table1.col1 = table2.col2\n",
    "WHERE\n",
    "    table1.col1 > 0\n",
    "GROUP BY\n",
    "    table2.col1\n",
    "```"
   ]
  },
  {
   "cell_type": "markdown",
   "metadata": {},
   "source": [
    "1. `From`\n",
    "2. `Where`\n",
    "3. `Group By`\n",
    "4. `Having`\n",
    "5. `Select`\n",
    "6. `Order By`\n",
    "7. `Limit`"
   ]
  }
 ],
 "metadata": {
  "kernelspec": {
   "display_name": "Python 3",
   "language": "python",
   "name": "python3"
  },
  "language_info": {
   "codemirror_mode": {
    "name": "ipython",
    "version": 3
   },
   "file_extension": ".py",
   "mimetype": "text/x-python",
   "name": "python",
   "nbconvert_exporter": "python",
   "pygments_lexer": "ipython3",
   "version": "3.8.5"
  },
  "toc": {
   "base_numbering": 1,
   "nav_menu": {},
   "number_sections": true,
   "sideBar": true,
   "skip_h1_title": false,
   "title_cell": "Table of Contents",
   "title_sidebar": "TOC",
   "toc_cell": true,
   "toc_position": {
    "height": "calc(100% - 180px)",
    "left": "10px",
    "top": "150px",
    "width": "277px"
   },
   "toc_section_display": true,
   "toc_window_display": true
  }
 },
 "nbformat": 4,
 "nbformat_minor": 4
}
