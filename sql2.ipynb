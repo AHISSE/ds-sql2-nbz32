{
 "cells": [
  {
   "cell_type": "markdown",
   "metadata": {},
   "source": [
    "![sql](sql-logo.jpg)\n",
    "\n",
    "# More SQL Tools\n",
    "\n",
    "Goals:\n",
    "\n",
    "- Connecting SQL with `pandas`\n",
    "- Describing PostgreSQL as a more sophisticated alternative to SQLite"
   ]
  },
  {
   "cell_type": "code",
   "execution_count": 12,
   "metadata": {},
   "outputs": [],
   "source": [
    "import sqlite3"
   ]
  },
  {
   "cell_type": "code",
   "execution_count": 6,
   "metadata": {},
   "outputs": [],
   "source": [
    "cur = sqlite3.connect('flights.db').cursor()"
   ]
  },
  {
   "cell_type": "markdown",
   "metadata": {},
   "source": [
    "## Grouping statements\n",
    "\n",
    "Combine `SELECT` and `GROUP BY` when you want *aggregates* by values\n",
    "\n",
    "`SELECT` `COUNT`, `MIN(x)`, `MAX(x)`, `SUM(x)`, etc.\n",
    "\n",
    "`GROUP BY x`\n",
    "\n",
    "**Tasks**<br>\n",
    "- Which countries have the highest numbers of active airlines?\n",
    "- Which countries have the highest numbers of inactive airlines?"
   ]
  },
  {
   "cell_type": "code",
   "execution_count": 10,
   "metadata": {},
   "outputs": [
    {
     "data": {
      "text/plain": [
       "[(141, 'United States'),\n",
       " (72, 'Russia'),\n",
       " (40, 'United Kingdom'),\n",
       " (37, 'Germany'),\n",
       " (34, 'Canada'),\n",
       " (26, 'Australia'),\n",
       " (25, 'China'),\n",
       " (24, 'Spain'),\n",
       " (23, 'Brazil'),\n",
       " (22, 'France'),\n",
       " (19, 'Japan'),\n",
       " (18, 'Italy'),\n",
       " (17, 'Indonesia'),\n",
       " (17, 'India'),\n",
       " (16, 'Turkey'),\n",
       " (16, 'Thailand'),\n",
       " (15, 'Sweden'),\n",
       " (14, 'Switzerland'),\n",
       " (13, 'Ukraine'),\n",
       " (13, 'Portugal'),\n",
       " (12, 'Mexico'),\n",
       " (12, 'Finland'),\n",
       " (12, 'Egypt'),\n",
       " (12, 'Austria'),\n",
       " (11, 'Peru')]"
      ]
     },
     "execution_count": 10,
     "metadata": {},
     "output_type": "execute_result"
    }
   ],
   "source": [
    "cur.execute(\n",
    "\"\"\"\n",
    "SELECT COUNT() num, country\n",
    "FROM airlines\n",
    "WHERE active='Y'\n",
    "GROUP BY country\n",
    "HAVING num > 10\n",
    "ORDER BY num DESC\n",
    "\"\"\"\n",
    ").fetchall()"
   ]
  },
  {
   "cell_type": "code",
   "execution_count": 11,
   "metadata": {},
   "outputs": [
    {
     "data": {
      "text/plain": [
       "[(939, 'United States'),\n",
       " (427, 'Mexico'),\n",
       " (367, 'United Kingdom'),\n",
       " (284, 'Canada'),\n",
       " (158, 'Russia'),\n",
       " (142, 'Spain'),\n",
       " (97, 'France'),\n",
       " (94, 'Germany'),\n",
       " (81, 'South Africa'),\n",
       " (80, 'Nigeria'),\n",
       " (76, 'Ukraine'),\n",
       " (73, 'Kazakhstan'),\n",
       " (72, 'Italy'),\n",
       " (67, 'Australia'),\n",
       " (55, 'Sweden'),\n",
       " (47, 'Sudan'),\n",
       " (46, 'Switzerland'),\n",
       " (45, 'China'),\n",
       " (43, 'Netherlands'),\n",
       " (38, 'Austria'),\n",
       " (36, 'Egypt'),\n",
       " (35, 'Chile'),\n",
       " (35, 'Brazil'),\n",
       " (35, 'Angola'),\n",
       " (34, 'Colombia'),\n",
       " (32, 'Thailand'),\n",
       " (32, 'Portugal'),\n",
       " (32, 'Mauritania'),\n",
       " (31, 'Indonesia'),\n",
       " (29, 'Kyrgyzstan')]"
      ]
     },
     "execution_count": 11,
     "metadata": {},
     "output_type": "execute_result"
    }
   ],
   "source": [
    "cur.execute(\n",
    "\"\"\"\n",
    "SELECT COUNT() num, country\n",
    "FROM airlines\n",
    "WHERE active='N'\n",
    "GROUP BY country\n",
    "HAVING num > 10\n",
    "ORDER BY num DESC\n",
    "LIMIT 30\n",
    "\"\"\"\n",
    ").fetchall()"
   ]
  },
  {
   "cell_type": "markdown",
   "metadata": {},
   "source": [
    "**Exercise**: Run a query that will return the number of airports by time zone. Each row should have a number of airports and a time zone.\n",
    "\n",
    "\n",
    "\n",
    "### `CASE WHEN`\n",
    "\n",
    "`CASE WHEN` is SQL's version of `if ... then ... else`. It must *always* be closed with an `END`."
   ]
  },
  {
   "cell_type": "code",
   "execution_count": null,
   "metadata": {},
   "outputs": [],
   "source": [
    "cursor.execute(\n",
    "\"\"\"\n",
    "SELECT name, city,\n",
    "CASE WHEN latitude > 0 THEN 'northern hemisphere'\n",
    "ELSE 'southern hemisphere'\n",
    "END AS hemisphere\n",
    "FROM airports\n",
    "\"\"\"\n",
    ").fetchall()"
   ]
  },
  {
   "cell_type": "markdown",
   "metadata": {},
   "source": [
    "### Subqueries\n",
    "\n",
    "For more complex queries it can be helpful to break them down into multiple parts. Subqueries are a natural way to do this.\n",
    "\n",
    "Suppose I wanted to know, after collecting together the highest airport in each country, which one's name comes alphabetically first.\n",
    "\n",
    "I might break this down by first collecting the highest airports and then _wrapping_ that query in a higher query that selects the name and country I want _from_ the result of that first query:"
   ]
  },
  {
   "cell_type": "code",
   "execution_count": null,
   "metadata": {},
   "outputs": [],
   "source": [
    "cursor.execute(\n",
    "\"\"\"\n",
    "SELECT MIN(name), country FROM\n",
    "(SELECT name, code, country, MAX(CAST(altitude AS INT))\n",
    "FROM airports\n",
    "GROUP BY country)\n",
    "\"\"\"\n",
    ").fetchall()"
   ]
  },
  {
   "cell_type": "markdown",
   "metadata": {},
   "source": [
    "## Goal 5: Using sql within pandas to filter\n",
    "\n",
    "`.query()`\n",
    "\n",
    "[query documentation](https://pandas.pydata.org/pandas-docs/stable/reference/api/pandas.DataFrame.query.html)\n",
    "\n",
    "# Get data for an example"
   ]
  },
  {
   "cell_type": "code",
   "execution_count": null,
   "metadata": {},
   "outputs": [],
   "source": [
    "import pandas as pd\n",
    "shelter_data=pd.read_csv('https://data.austintexas.gov/api/\\\n",
    "views/9t4d-g238/rows.csv?accessType=DOWNLOAD')\n",
    "shelter_data.dtypes\n",
    "\n",
    "shelter_data[shelter_data['Name'] == \"Max\"].head()"
   ]
  },
  {
   "cell_type": "markdown",
   "metadata": {},
   "source": [
    "# With .query()"
   ]
  },
  {
   "cell_type": "code",
   "execution_count": null,
   "metadata": {},
   "outputs": [],
   "source": [
    "max_data = shelter_data.query('Name == \"Max\"')\n",
    "max_data.head()"
   ]
  },
  {
   "cell_type": "markdown",
   "metadata": {},
   "source": [
    "## Goal 6: Transfering from sqlite to pandas\n",
    "\n",
    "`.read_sql()`"
   ]
  },
  {
   "cell_type": "code",
   "execution_count": null,
   "metadata": {},
   "outputs": [],
   "source": [
    "import pandas as pd\n",
    "\n",
    "conn = sqlite3.connect(\"flights.db\")\n",
    "df = pd.read_sql(\"SELECT * FROM airports LIMIT 50\", conn)\n",
    "df"
   ]
  },
  {
   "cell_type": "markdown",
   "metadata": {},
   "source": [
    "**Exercise for later**: \n",
    "Convert one of the earlier queries in the lesson to a pandas data frame\n",
    "\n",
    "\n",
    "\n",
    "`pandasql` is a library that allows SQL-style querying of `pandas` DataFrames."
   ]
  },
  {
   "cell_type": "code",
   "execution_count": null,
   "metadata": {},
   "outputs": [],
   "source": [
    "import pandasql\n",
    "\n",
    "pandasql.sqldf(\"SELECT name, code FROM df LIMIT 10\", globals())"
   ]
  },
  {
   "cell_type": "markdown",
   "metadata": {},
   "source": [
    "## On Your Own\n",
    "\n",
    "The [Chinook database](https://github.com/lerocha/chinook-database) is a sample database, representing a digital media store.\n",
    "\n",
    "You need to create a query that can rank tracks in term of popularity.\n",
    "\n",
    "The name of the database is `Chinook_Sqlite.sqlite`\n",
    "\n",
    "Database information:<br>\n",
    "- How many tables are in the database?\n",
    "- What's the primary key of each table?\n",
    "- What foreign keys join the tables together?\n",
    "- If you had to draw a schema of how the tables are connected, what would it look like?\n",
    "\n",
    "To answer the question:<br>\n",
    "- What are the max and min dates in the Invoice table?\n",
    "- What tables would you need to answer \"what is your most popular track?\"\n",
    "- What values from each table?\n",
    "\n",
    "# Getting Started"
   ]
  },
  {
   "cell_type": "code",
   "execution_count": 1,
   "metadata": {},
   "outputs": [],
   "source": [
    "con = sqlite3.connect('Chinook_Sqlite.sqlite')\n",
    "\n",
    "cursor2 = con.cursor()\n",
    "\n",
    "cursor2.execute(\n",
    "\"\"\"\n",
    "SELECT tbl_name\n",
    "FROM sqlite_master\n",
    "WHERE type='table'\n",
    "\"\"\"\n",
    ")\n",
    "\n",
    "cursor2.fetchall()"
   ]
  },
  {
   "cell_type": "code",
   "execution_count": null,
   "metadata": {},
   "outputs": [],
   "source": []
  }
 ],
 "metadata": {
  "kernelspec": {
   "display_name": "Python 3",
   "language": "python",
   "name": "python3"
  },
  "language_info": {
   "codemirror_mode": {
    "name": "ipython",
    "version": 3
   },
   "file_extension": ".py",
   "mimetype": "text/x-python",
   "name": "python",
   "nbconvert_exporter": "python",
   "pygments_lexer": "ipython3",
   "version": "3.7.2"
  }
 },
 "nbformat": 4,
 "nbformat_minor": 4
}
